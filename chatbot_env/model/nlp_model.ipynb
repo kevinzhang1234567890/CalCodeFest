{
 "cells": [
  {
   "cell_type": "code",
   "execution_count": 5,
   "id": "f7fc5527-e441-48de-866a-2e84c5418f4e",
   "metadata": {},
   "outputs": [],
   "source": [
    "import pandas as pd\n",
    "\n",
    "# Load your similarity scores\n",
    "df = pd.read_csv('company_similarity_results_bert.csv')\n",
    "\n",
    "def get_company_score(company_name):\n",
    "    try:\n",
    "        score = df[df['Company'] == company_name]['Similarity'].values[0]\n",
    "    except IndexError:\n",
    "        score = \"Company not found\"\n",
    "    return score\n",
    "\n",
    "def suggest_alternatives(company_name):\n",
    "    alternatives = df[df['Company'] != company_name].sort_values(by='Similarity', ascending=False).head(3)\n",
    "    return alternatives['Company'].tolist()"
   ]
  },
  {
   "cell_type": "code",
   "execution_count": null,
   "id": "5743d1f7-edf1-480c-a364-fdcc748892f1",
   "metadata": {},
   "outputs": [],
   "source": []
  }
 ],
 "metadata": {
  "kernelspec": {
   "display_name": "project.env",
   "language": "python",
   "name": "project.env"
  },
  "language_info": {
   "codemirror_mode": {
    "name": "ipython",
    "version": 3
   },
   "file_extension": ".py",
   "mimetype": "text/x-python",
   "name": "python",
   "nbconvert_exporter": "python",
   "pygments_lexer": "ipython3",
   "version": "3.12.4"
  }
 },
 "nbformat": 4,
 "nbformat_minor": 5
}
