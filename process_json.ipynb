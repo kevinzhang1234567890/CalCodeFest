{
 "cells": [
  {
   "cell_type": "code",
   "execution_count": 21,
   "id": "8f1a8982-5c35-426b-b14b-a7173a45d7e0",
   "metadata": {},
   "outputs": [],
   "source": [
    "import os\n",
    "import json\n",
    "\n",
    "# Create directories for processed data\n",
    "os.makedirs('data/processed/news', exist_ok=True)\n",
    "os.makedirs('data/processed/press_releases', exist_ok=True)\n",
    "os.makedirs('data/processed/executive_statements', exist_ok=True)\n",
    "\n",
    "def extract_text_from_json(input_file, output_dir):\n",
    "    with open(input_file, 'r', encoding='utf-8') as file:\n",
    "        data = json.load(file)\n",
    "    \n",
    "    for i, article in enumerate(data):\n",
    "        text = 'Title: ' + str(article.get('title','')) + '\\nDescription: ' + str(article.get('description', '')) + '\\nContent: ' + str(article.get('content', ''))\n",
    "        #formatting data to display article title, description, and content in standardized manner\n",
    "        output_file_path = os.path.join(output_dir, f'article_{i+1}.txt')\n",
    "        with open(output_file_path, 'w', encoding='utf-8') as output_file:\n",
    "            output_file.write(text)\n",
    "\n",
    "# Processing the collected data\n",
    "extract_text_from_json('data/raw/news/tech_environmental_impact.json', 'data/processed/news')\n",
    "extract_text_from_json('data/raw/press_releases/tech_sustainability_reports.json', 'data/processed/press_releases')\n",
    "extract_text_from_json('data/raw/executive_statements/executive_statements.json', 'data/processed/executive_statements')\n"
   ]
  },
  {
   "cell_type": "code",
   "execution_count": null,
   "id": "c0c5bc65-8951-4404-8f1b-f035c2e4b27d",
   "metadata": {},
   "outputs": [],
   "source": []
  }
 ],
 "metadata": {
  "kernelspec": {
   "display_name": "project.env",
   "language": "python",
   "name": "project.env"
  },
  "language_info": {
   "codemirror_mode": {
    "name": "ipython",
    "version": 3
   },
   "file_extension": ".py",
   "mimetype": "text/x-python",
   "name": "python",
   "nbconvert_exporter": "python",
   "pygments_lexer": "ipython3",
   "version": "3.12.4"
  }
 },
 "nbformat": 4,
 "nbformat_minor": 5
}
