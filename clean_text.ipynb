{
 "cells": [
  {
   "cell_type": "code",
   "execution_count": 12,
   "id": "9ef6818a-20a4-446d-9d19-c6411c0e0d27",
   "metadata": {},
   "outputs": [],
   "source": [
    "import os\n",
    "import re\n",
    "import nltk\n",
    "from nltk.corpus import stopwords\n",
    "\n",
    "# Ensuring that the stopwords are available\n",
    "try:\n",
    "    stop_words = set(stopwords.words('english'))\n",
    "except LookupError:\n",
    "    nltk.download('stopwords')\n",
    "    stop_words = set(stopwords.words('english'))\n",
    "\n",
    "def clean_text(text):\n",
    "    # Converting text to lowercase\n",
    "    text = text.lower()\n",
    "    # Removing HTML tags\n",
    "    text = re.sub(r'<.*?>', '', text)\n",
    "    # Remove non-alphabetic characters\n",
    "    text = re.sub(r'[^a-z\\s]', '', text)\n",
    "    # Remove stopwords\n",
    "    text = ' '.join([word for word in text.split() if word not in stop_words])\n",
    "    return text\n",
    "\n",
    "def clean_text_files(input_dir, output_dir):\n",
    "    for filename in os.listdir(input_dir):\n",
    "        if filename.endswith('.txt'):\n",
    "            file_path = os.path.join(input_dir, filename)\n",
    "            with open(file_path, 'r', encoding='utf-8') as file:\n",
    "                text = file.read()\n",
    "            #cleaned_text = clean_text(text)\n",
    "            cleaned_text = text\n",
    "            #initally created this function to clean the data but realized it would be more effective if I left the data the way it is for BERT to analyze, hence there is no change between processed and cleaned data\n",
    "            output_file_path = os.path.join(output_dir, f\"cleaned_{filename}\")\n",
    "            with open(output_file_path, 'w', encoding='utf-8') as file:\n",
    "                file.write(cleaned_text)\n",
    "\n",
    "# Creating directories for cleaned data (which is really just the processed data)\n",
    "os.makedirs('data/cleaned/news', exist_ok=True)\n",
    "os.makedirs('data/cleaned/press_releases', exist_ok=True)\n",
    "os.makedirs('data/cleaned/executive_statements', exist_ok=True)\n",
    "\n",
    "# Clean the processed data (does not do anything)\n",
    "#created this initially but realized it would be best to not implement data cleansing\n",
    "clean_text_files('data/processed/news', 'data/cleaned/news')\n",
    "clean_text_files('data/processed/press_releases', 'data/cleaned/press_releases')\n",
    "clean_text_files('data/processed/executive_statements', 'data/cleaned/executive_statements')"
   ]
  },
  {
   "cell_type": "code",
   "execution_count": null,
   "id": "68d05cdb-e33a-41ed-b8e2-4f7c9c3c9b39",
   "metadata": {},
   "outputs": [],
   "source": []
  }
 ],
 "metadata": {
  "kernelspec": {
   "display_name": "project.env",
   "language": "python",
   "name": "project.env"
  },
  "language_info": {
   "codemirror_mode": {
    "name": "ipython",
    "version": 3
   },
   "file_extension": ".py",
   "mimetype": "text/x-python",
   "name": "python",
   "nbconvert_exporter": "python",
   "pygments_lexer": "ipython3",
   "version": "3.12.4"
  }
 },
 "nbformat": 4,
 "nbformat_minor": 5
}
